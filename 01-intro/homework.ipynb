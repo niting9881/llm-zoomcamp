{
 "cells": [
  {
   "cell_type": "code",
   "execution_count": null,
   "id": "ee9dbcb1",
   "metadata": {},
   "outputs": [],
   "source": [
    "#Q1 build_hash\n",
    "#dbcbbbd0bc4924cfeb28929dc05d82d662c527b7"
   ]
  },
  {
   "cell_type": "code",
   "execution_count": 6,
   "id": "c67efbbe",
   "metadata": {},
   "outputs": [],
   "source": [
    "import requests \n",
    "\n",
    "docs_url = 'https://github.com/DataTalksClub/llm-zoomcamp/blob/main/01-intro/documents.json?raw=1'\n",
    "docs_response = requests.get(docs_url)\n",
    "documents_raw = docs_response.json()\n",
    "\n",
    "documents = []\n",
    "\n",
    "for course in documents_raw:\n",
    "    course_name = course['course']\n",
    "\n",
    "    for doc in course['documents']:\n",
    "        doc['course'] = course_name\n",
    "        documents.append(doc)"
   ]
  },
  {
   "cell_type": "code",
   "execution_count": null,
   "id": "6155d167",
   "metadata": {},
   "outputs": [],
   "source": [
    "#@Q2. Indexing the data\n",
    "#index"
   ]
  },
  {
   "cell_type": "code",
   "execution_count": 7,
   "id": "5c6b1bf1",
   "metadata": {},
   "outputs": [],
   "source": [
    "import requests \n",
    "from elasticsearch import Elasticsearch\n",
    "docs_url = 'https://github.com/DataTalksClub/llm-zoomcamp/blob/main/01-intro/documents.json?raw=1'\n",
    "docs_response = requests.get(docs_url)\n",
    "documents_raw = docs_response.json()\n",
    "es = Elasticsearch(\"http://localhost:9200\")\n",
    "documents = []\n",
    "\n",
    "for course in documents_raw:\n",
    "    course_name = course['course']\n",
    "\n",
    "    for doc in course['documents']:\n",
    "        doc['course'] = course_name\n",
    "        documents.append(doc)\n",
    "        res = es.index(index=\"my-index\", document=doc)"
   ]
  },
  {
   "cell_type": "code",
   "execution_count": 9,
   "id": "62326e6d",
   "metadata": {},
   "outputs": [],
   "source": [
    "#Q3\n",
    "import requests \n",
    "from elasticsearch import Elasticsearch\n",
    "docs_url = 'https://github.com/DataTalksClub/llm-zoomcamp/blob/main/01-intro/documents.json?raw=1'\n",
    "docs_response = requests.get(docs_url)\n",
    "documents_raw = docs_response.json()\n",
    "es = Elasticsearch(\"http://localhost:9200\")\n",
    "documents = []\n",
    "\n",
    "for course in documents_raw:\n",
    "    course_name = course['course']\n",
    "\n",
    "    for doc in course['documents']:\n",
    "        doc['course'] = course_name\n",
    "        documents.append(doc)\n",
    "        res = es.index(index=\"my-index\", document=doc)\n",
    "        "
   ]
  },
  {
   "cell_type": "code",
   "execution_count": null,
   "id": "ba07b7ab",
   "metadata": {},
   "outputs": [
    {
     "name": "stderr",
     "output_type": "stream",
     "text": [
      "/tmp/ipykernel_2020/3472592042.py:5: DeprecationWarning: The 'body' parameter is deprecated and will be removed in a future version. Instead use individual parameters.\n",
      "  response = es.search(\n"
     ]
    },
    {
     "name": "stdout",
     "output_type": "stream",
     "text": [
      "Top ranking score: 44.56891\n"
     ]
    }
   ],
   "source": [
    "#Q3\n",
    "from elasticsearch import Elasticsearch\n",
    "\n",
    "es = Elasticsearch(\"http://localhost:9200\")\n",
    "\n",
    "response = es.search(\n",
    "    index=\"my-index\",\n",
    "    body={\n",
    "        \"query\": {\n",
    "            \"multi_match\": {\n",
    "                \"query\": \"How do execute a command on a Kubernetes pod?\",\n",
    "                \"fields\": [\"question^4\", \"text\"],\n",
    "                \"type\": \"best_fields\"\n",
    "            }\n",
    "        }\n",
    "    }\n",
    ")\n",
    "\n",
    "top_score = response[\"hits\"][\"hits\"][0][\"_score\"]\n",
    "print(\"Top ranking score:\", top_score)"
   ]
  },
  {
   "cell_type": "code",
   "execution_count": 12,
   "id": "c29b7d3d",
   "metadata": {},
   "outputs": [
    {
     "name": "stdout",
     "output_type": "stream",
     "text": [
      "3rd question: How do I debug a docker container?\n"
     ]
    },
    {
     "name": "stderr",
     "output_type": "stream",
     "text": [
      "/tmp/ipykernel_2020/4136988158.py:6: DeprecationWarning: The 'body' parameter is deprecated and will be removed in a future version. Instead use individual parameters.\n",
      "  response = es.search(\n"
     ]
    }
   ],
   "source": [
    "#Q4\n",
    "from elasticsearch import Elasticsearch\n",
    "\n",
    "es = Elasticsearch(\"http://localhost:9200\")\n",
    "\n",
    "response = es.search(\n",
    "    index=\"my-index\",\n",
    "    body={\n",
    "        \"query\": {\n",
    "            \"bool\": {\n",
    "                \"must\": {\n",
    "                    \"multi_match\": {\n",
    "                        \"query\": \"How do copy a file to a Docker container?\",\n",
    "                        \"fields\": [\"question^3\", \"text\", \"section\"],\n",
    "                        \"type\": \"best_fields\"\n",
    "                    }\n",
    "                },\n",
    "                \"filter\": {\n",
    "                    \"match\": {\n",
    "                        \"course\": \"machine-learning-zoomcamp\"\n",
    "                    }\n",
    "                }\n",
    "            }\n",
    "        }\n",
    "    }\n",
    ")\n",
    "if len(response[\"hits\"][\"hits\"]) >= 3:\n",
    "    print(\"3rd question:\", response[\"hits\"][\"hits\"][2][\"_source\"][\"question\"])\n",
    "else:\n",
    "    print(\"Less than 3 results found.\")"
   ]
  },
  {
   "cell_type": "code",
   "execution_count": 16,
   "id": "32dfb1a4",
   "metadata": {},
   "outputs": [
    {
     "name": "stdout",
     "output_type": "stream",
     "text": [
      "Prompt length: 602\n"
     ]
    }
   ],
   "source": [
    "#Q5\n",
    "question = \"How do I debug a docker container?\"\n",
    "text = \"\"\"Launch the container image in interactive mode and overriding the entrypoint, so that it starts a bash command.\n",
    "docker run -it --entrypoint bash <image>\n",
    "If the container is already running, execute a command in the specific container:\n",
    "docker ps (find the container-id)\n",
    "docker exec -it <container-id> bash\n",
    "(Marcos MJD)\"\"\"\n",
    "\n",
    "context_template = \"\"\"\n",
    "Q: {question}\n",
    "A: {text}\n",
    "\"\"\".strip()\n",
    "\n",
    "context = context_template.format(\n",
    "    question=question,\n",
    "    text=text\n",
    ")\n",
    "\n",
    "prompt_template = \"\"\"\n",
    "You're a course teaching assistant. Answer the QUESTION based on the CONTEXT from the FAQ database.\n",
    "Use only the facts from the CONTEXT when answering the QUESTION.\n",
    "\n",
    "QUESTION: {question}\n",
    "\n",
    "CONTEXT:\n",
    "{context}\n",
    "\"\"\".strip()\n",
    "\n",
    "final_prompt = prompt_template.format(\n",
    "    question=\"How do I execute a command in a running docker container?\",\n",
    "    context=context\n",
    ")\n",
    "\n",
    "print(\"Prompt length:\", len(final_prompt))"
   ]
  },
  {
   "cell_type": "code",
   "execution_count": null,
   "id": "53c9ef58",
   "metadata": {},
   "outputs": [
    {
     "name": "stdout",
     "output_type": "stream",
     "text": [
      "Number of tokens in the prompt: 298\n"
     ]
    }
   ],
   "source": [
    "#Q6\n",
    "import os\n",
    "import tiktoken\n",
    "\n",
    "# Set your OpenAI API key\n",
    "os.environ[\"OPENAI_API_KEY\"] = \"sk-proj-XXXXXX\"  # Replace with your actual API key\n",
    "\n",
    "context_template = \"\"\"\n",
    "Q: {question}\n",
    "A: {text}\n",
    "\"\"\".strip()\n",
    "\n",
    "context = \"\\n\\n\".join([\n",
    "    context_template.format(\n",
    "        question=hit[\"_source\"][\"question\"],\n",
    "        text=hit[\"_source\"][\"text\"]\n",
    "    )\n",
    "    for hit in response[\"hits\"][\"hits\"][:3]\n",
    "])\n",
    "\n",
    "prompt_template = \"\"\"\n",
    "You're a course teaching assistant. Answer the QUESTION based on the CONTEXT from the FAQ database.\n",
    "Use only the facts from the CONTEXT when answering the QUESTION.\n",
    "\n",
    "QUESTION: {question}\n",
    "\n",
    "CONTEXT:\n",
    "{context}\n",
    "\"\"\".strip()\n",
    "\n",
    "final_prompt = prompt_template.format(\n",
    "    question=\"How do I execute a command in a running docker container?\",\n",
    "    context=context\n",
    ")\n",
    "\n",
    "encoding = tiktoken.encoding_for_model(\"gpt-4o\")\n",
    "num_tokens = len(encoding.encode(final_prompt))\n",
    "print(\"Number of tokens in the prompt:\", num_tokens)"
   ]
  }
 ],
 "metadata": {
  "kernelspec": {
   "display_name": "Python 3",
   "language": "python",
   "name": "python3"
  },
  "language_info": {
   "codemirror_mode": {
    "name": "ipython",
    "version": 3
   },
   "file_extension": ".py",
   "mimetype": "text/x-python",
   "name": "python",
   "nbconvert_exporter": "python",
   "pygments_lexer": "ipython3",
   "version": "3.12.1"
  }
 },
 "nbformat": 4,
 "nbformat_minor": 5
}
